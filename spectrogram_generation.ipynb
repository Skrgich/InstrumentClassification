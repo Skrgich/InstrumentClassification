{
 "cells": [
  {
   "cell_type": "code",
   "execution_count": 1,
   "id": "7a1de378-33fa-415c-a06d-9a64067884a1",
   "metadata": {
    "tags": []
   },
   "outputs": [],
   "source": [
    "import numpy as np\n",
    "import librosa.display, os\n",
    "import matplotlib.pyplot as plt\n",
    "%matplotlib inline\n",
    "from create_spectrogram import create_spectrogram\n",
    "\n",
    "def create_pngs_from_wavs(input_path, output_path):\n",
    "    if not os.path.exists(output_path):\n",
    "        os.makedirs(output_path)\n",
    "\n",
    "    dir = os.listdir(input_path)\n",
    "\n",
    "    for i, file in enumerate(dir):\n",
    "        if '.txt' in file: continue\n",
    "        input_file = os.path.join(input_path, file)\n",
    "        output_file = os.path.join(output_path, file.replace('.wav', '.png'))\n",
    "        create_spectrogram(input_file, output_file)"
   ]
  },
  {
   "cell_type": "code",
   "execution_count": 3,
   "id": "12b84a1a-6d1b-40af-b0be-fe76ececffa8",
   "metadata": {},
   "outputs": [],
   "source": [
    "# from keras.preprocessing import image\n",
    "import keras.utils as image\n",
    "import os\n",
    "import matplotlib.pyplot as plt\n",
    "from random import randint\n",
    "\n",
    "NUM_INSTRUMENTS = 11\n",
    "\n",
    "instruments = [\"cel\", \"cla\", \"flu\", \"gac\", \"gel\", \"org\", \"pia\", \"sax\", \"tru\", \"vio\", \"voi\"]\n",
    "\n",
    "inst_dict = {}\n",
    "for i in range(len(instruments)): \n",
    "    inst_dict[instruments[i]] = i\n",
    "\n",
    "def load_images_from_path(path, x_array, y_array, index, label = None, path_label = None):\n",
    "    images = []\n",
    "    labels = []\n",
    "    temp_label = [0 for _ in range(NUM_INSTRUMENTS)]\n",
    "    if not path_label:\n",
    "        temp_label[label] = 1     \n",
    "        \n",
    "        \n",
    "    for file in os.listdir(path):\n",
    "        x_array[index] = image.img_to_array(image.load_img(os.path.join(path, file), target_size=(224, 224, 3)))\n",
    "        \n",
    "        # images.append(image.img_to_array(image.load_img(os.path.join(path, file), target_size=(224, 224, 3))))\n",
    "        if path_label:\n",
    "            temp_label = [False for _ in range(NUM_INSTRUMENTS)]\n",
    "            with open(\"{}/{}.txt\".format(path_label, file[:-4]), \"r\") as f:\n",
    "                for inst in f:\n",
    "                    inst = inst.replace('\\n', '').replace('\\t', '')\n",
    "                    temp_label[inst_dict[inst]] = 1\n",
    "        # labels.append((temp_label))\n",
    "        y_array[index] = temp_label\n",
    "        index += 1\n",
    "        \n",
    "        \n",
    "    # print(len(images), len(os.listdir(path)), len(images[0]))\n",
    "    # return images, labels\n",
    "    return index\n",
    "\n",
    "def show_images(images):\n",
    "    fig, axes = plt.subplots(1, 8, figsize=(20, 20), subplot_kw={'xticks': [], 'yticks': []})\n",
    "\n",
    "    for i, ax in enumerate(axes.flat):\n",
    "        ax.imshow(images[i] / 255)\n",
    "        "
   ]
  },
  {
   "cell_type": "code",
   "execution_count": null,
   "id": "8463ff8a-fabc-47e4-8055-dafd6df56026",
   "metadata": {},
   "outputs": [],
   "source": [
    "for inst in instruments:\n",
    "    create_pngs_from_wavs('Dataset/IRMAS_Training_Data/{}'.format(inst), 'Spectrograms/{}'.format(inst))"
   ]
  },
  {
   "cell_type": "code",
   "execution_count": null,
   "id": "d17fb512-9062-4ef0-8b85-72bd7928fd20",
   "metadata": {},
   "outputs": [],
   "source": [
    "create_pngs_from_wavs('Dataset/IRMAS_Validation_Data', 'Spectrograms/TEST')"
   ]
  }
 ],
 "metadata": {
  "kernelspec": {
   "display_name": "Python 3 (ipykernel)",
   "language": "python",
   "name": "python3"
  },
  "language_info": {
   "codemirror_mode": {
    "name": "ipython",
    "version": 3
   },
   "file_extension": ".py",
   "mimetype": "text/x-python",
   "name": "python",
   "nbconvert_exporter": "python",
   "pygments_lexer": "ipython3",
   "version": "3.10.11"
  }
 },
 "nbformat": 4,
 "nbformat_minor": 5
}
