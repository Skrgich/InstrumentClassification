{
 "cells": [
  {
   "cell_type": "raw",
   "id": "ab55b50f-800a-465f-bcdc-7590ed4d9e74",
   "metadata": {
    "tags": []
   },
   "source": [
    "import numpy as np\n",
    "import librosa.display, os\n",
    "import matplotlib.pyplot as plt\n",
    "%matplotlib inline\n",
    "\n",
    "def create_spectrogram(audio_file, image_file):\n",
    "    fig = plt.figure()\n",
    "    ax = fig.add_subplot(1, 1, 1)\n",
    "    fig.subplots_adjust(left=0, right=1, bottom=0, top=1)\n",
    "\n",
    "    y, sr = librosa.load(audio_file)\n",
    "    ms = librosa.feature.melspectrogram(y = y, sr = sr)\n",
    "    log_ms = librosa.power_to_db(ms, ref=np.max)\n",
    "    librosa.display.specshow(log_ms, sr=sr)\n",
    "\n",
    "    fig.savefig(image_file)\n",
    "    plt.close(fig)\n",
    "    \n",
    "def create_pngs_from_wavs(input_path, output_path):\n",
    "    if not os.path.exists(output_path):\n",
    "        os.makedirs(output_path)\n",
    "\n",
    "    dir = os.listdir(input_path)\n",
    "\n",
    "    for i, file in enumerate(dir):\n",
    "        if '.txt' in file: continue\n",
    "        input_file = os.path.join(input_path, file)\n",
    "        output_file = os.path.join(output_path, file.replace('.wav', '.png'))\n",
    "        create_spectrogram(input_file, output_file)"
   ]
  },
  {
   "cell_type": "code",
   "execution_count": 1,
   "id": "f2ec9f49-56d8-4bad-ae00-76113562ecc1",
   "metadata": {},
   "outputs": [],
   "source": [
    "# from keras.preprocessing import image\n",
    "import keras.utils as image\n",
    "import os\n",
    "import matplotlib.pyplot as plt\n",
    "from random import randint\n",
    "\n",
    "NUM_INSTRUMENTS = 11\n",
    "\n",
    "instruments = [\"cel\", \"cla\", \"flu\", \"gac\", \"gel\", \"org\", \"pia\", \"sax\", \"tru\", \"vio\", \"voi\"]\n",
    "\n",
    "inst_dict = {}\n",
    "for i in range(len(instruments)): \n",
    "    inst_dict[instruments[i]] = i\n",
    "\n",
    "def load_images_from_path(path, x_array, y_array, index, label = None, path_label = None):\n",
    "    images = []\n",
    "    labels = []\n",
    "    temp_label = [0 for _ in range(NUM_INSTRUMENTS)]\n",
    "    if not path_label:\n",
    "        temp_label[label] = 1     \n",
    "        \n",
    "        \n",
    "    for file in os.listdir(path):\n",
    "        x_array[index] = image.img_to_array(image.load_img(os.path.join(path, file), target_size=(224, 224, 3)))\n",
    "        \n",
    "        # images.append(image.img_to_array(image.load_img(os.path.join(path, file), target_size=(224, 224, 3))))\n",
    "        if path_label:\n",
    "            temp_label = [False for _ in range(NUM_INSTRUMENTS)]\n",
    "            with open(\"{}/{}.txt\".format(path_label, file[:-4]), \"r\") as f:\n",
    "                for inst in f:\n",
    "                    inst = inst.replace('\\n', '').replace('\\t', '')\n",
    "                    temp_label[inst_dict[inst]] = 1\n",
    "        # labels.append((temp_label))\n",
    "        y_array[index] = temp_label\n",
    "        index += 1\n",
    "        \n",
    "        \n",
    "    # print(len(images), len(os.listdir(path)), len(images[0]))\n",
    "    # return images, labels\n",
    "    return index\n",
    "\n",
    "def show_images(images):\n",
    "    fig, axes = plt.subplots(1, 8, figsize=(20, 20), subplot_kw={'xticks': [], 'yticks': []})\n",
    "\n",
    "    for i, ax in enumerate(axes.flat):\n",
    "        ax.imshow(images[i] / 255)\n",
    "        "
   ]
  },
  {
   "cell_type": "code",
   "execution_count": 2,
   "id": "b22e13b7-ac8d-4f54-982a-a3c573f05556",
   "metadata": {
    "tags": []
   },
   "outputs": [
    {
     "name": "stdout",
     "output_type": "stream",
     "text": [
      "7210\n",
      "7210\n",
      "7210\n"
     ]
    }
   ],
   "source": [
    "from tensorflow.keras.utils import to_categorical\n",
    "import numpy as np\n",
    "len_train = 0\n",
    "for i in range(len(instruments)):\n",
    "    len_train += len(os.listdir('Spectrograms/{}'.format(instruments[i])))\n",
    "print(len_train)\n",
    "\n",
    "x = np.empty(shape = (len_train, 224, 224, 3))\n",
    "y = np.empty(shape = (len_train, NUM_INSTRUMENTS))\n",
    "index = 0\n",
    "for i in range(len(instruments)):\n",
    "    index = load_images_from_path(path = 'Spectrograms/{}'.format(instruments[i]), label = i, x_array = x, y_array = y, index = index)\n",
    "    # images, labels = load_images_from_path(path = 'Spectrograms/{}'.format(instruments[i]), label = i)\n",
    "    # show_images(images)\n",
    "    \n",
    "    # np.append(x, images)\n",
    "    # np.append(y, labels)\n",
    "\n",
    "y_enc = to_categorical(y)\n",
    "print(len(x))\n",
    "print(len(y))"
   ]
  },
  {
   "cell_type": "code",
   "execution_count": 5,
   "id": "9b93ca1b-843e-49f7-8da6-31c54cca7c21",
   "metadata": {
    "tags": []
   },
   "outputs": [
    {
     "data": {
      "text/plain": [
       "2874"
      ]
     },
     "execution_count": 5,
     "metadata": {},
     "output_type": "execute_result"
    }
   ],
   "source": [
    "x_test = np.empty(shape = (len(os.listdir('Spectrograms/TEST')), 224, 224, 3))\n",
    "y_test = np.empty(shape = (len(os.listdir('Spectrograms/TEST')), NUM_INSTRUMENTS))\n",
    "y_test_enc = to_categorical(y_test)\n",
    "load_images_from_path(path = 'Spectrograms/TEST', path_label = 'Dataset/IRMAS_Validation_Data', x_array = x_test, y_array = y_test, index = 0)"
   ]
  },
  {
   "cell_type": "code",
   "execution_count": null,
   "id": "bc38a16e-fa23-41d6-b7c5-7087530b95ae",
   "metadata": {},
   "outputs": [],
   "source": [
    "from keras.models import Sequential\n",
    "from keras.layers import Conv2D, MaxPooling2D\n",
    "from keras.layers import Flatten, Dense\n",
    "import keras.backend\n",
    "from keras.losses import losses_utils\n",
    "import keras.losses\n",
    "\n",
    "\n",
    "# Define the model architecture\n",
    "model = Sequential()\n",
    "model.add(Conv2D(32, (3, 3), activation='relu', input_shape=(224, 224, 3)))\n",
    "model.add(MaxPooling2D(pool_size=(2, 2)))\n",
    "model.add(Conv2D(64, (3, 3), activation='relu'))\n",
    "model.add(MaxPooling2D(pool_size=(2, 2)))\n",
    "model.add(Flatten())\n",
    "model.add(Dense(128, activation='relu'))\n",
    "model.add(Dense(11, activation='sigmoid'))\n",
    "\n",
    "# Compile the model\n",
    "model.compile(loss='binary_crossentropy', optimizer='adam', metrics=['accuracy'])\n",
    "\n",
    "model.summary()"
   ]
  },
  {
   "cell_type": "code",
   "execution_count": 4,
   "id": "0066b3ef-d96a-4086-902b-d7be744fb616",
   "metadata": {
    "tags": []
   },
   "outputs": [
    {
     "name": "stdout",
     "output_type": "stream",
     "text": [
      "(7210, 224, 224, 3)\n",
      "(7210, 11)\n",
      "(2874, 224, 224, 3)\n",
      "(2874, 11)\n"
     ]
    }
   ],
   "source": [
    "import numpy as np\n",
    "print(np.shape(x))\n",
    "print(np.shape(y))\n",
    "print(np.shape(x_test))\n",
    "print(np.shape(y_test))"
   ]
  },
  {
   "cell_type": "code",
   "execution_count": 8,
   "id": "2088ebc3-f385-4de9-9d33-676521218649",
   "metadata": {
    "tags": []
   },
   "outputs": [
    {
     "name": "stdout",
     "output_type": "stream",
     "text": [
      "7210 7210 2874 2874\n",
      "Epoch 1/20\n",
      "226/226 [==============================] - 280s 1s/step - loss: 13.1073 - accuracy: 0.1773 - val_loss: 0.4419 - val_accuracy: 0.1343\n",
      "Epoch 2/20\n",
      "226/226 [==============================] - 265s 1s/step - loss: 0.2717 - accuracy: 0.2731 - val_loss: 0.4565 - val_accuracy: 0.1385\n",
      "Epoch 3/20\n",
      "226/226 [==============================] - 265s 1s/step - loss: 0.2465 - accuracy: 0.3603 - val_loss: 0.4885 - val_accuracy: 0.1447\n",
      "Epoch 4/20\n",
      "226/226 [==============================] - 262s 1s/step - loss: 0.2229 - accuracy: 0.4284 - val_loss: 0.4983 - val_accuracy: 0.2008\n",
      "Epoch 5/20\n",
      "226/226 [==============================] - 258s 1s/step - loss: 0.2062 - accuracy: 0.4899 - val_loss: 0.5930 - val_accuracy: 0.1340\n",
      "Epoch 6/20\n",
      "226/226 [==============================] - 257s 1s/step - loss: 0.1862 - accuracy: 0.5483 - val_loss: 0.6188 - val_accuracy: 0.1795\n",
      "Epoch 7/20\n",
      "226/226 [==============================] - 258s 1s/step - loss: 0.1732 - accuracy: 0.6000 - val_loss: 0.6954 - val_accuracy: 0.1472\n",
      "Epoch 8/20\n",
      "226/226 [==============================] - 257s 1s/step - loss: 0.1546 - accuracy: 0.6538 - val_loss: 0.7222 - val_accuracy: 0.1458\n",
      "Epoch 9/20\n",
      "226/226 [==============================] - 257s 1s/step - loss: 0.1355 - accuracy: 0.7075 - val_loss: 0.8760 - val_accuracy: 0.1875\n",
      "Epoch 10/20\n",
      "226/226 [==============================] - 265s 1s/step - loss: 0.1246 - accuracy: 0.7384 - val_loss: 0.9482 - val_accuracy: 0.1628\n",
      "Epoch 11/20\n",
      "226/226 [==============================] - 263s 1s/step - loss: 0.1091 - accuracy: 0.7763 - val_loss: 0.9762 - val_accuracy: 0.1969\n",
      "Epoch 12/20\n",
      "226/226 [==============================] - 259s 1s/step - loss: 0.0929 - accuracy: 0.8118 - val_loss: 1.0752 - val_accuracy: 0.1754\n",
      "Epoch 13/20\n",
      "226/226 [==============================] - 258s 1s/step - loss: 0.0830 - accuracy: 0.8365 - val_loss: 0.9112 - val_accuracy: 0.2042\n",
      "Epoch 14/20\n",
      "226/226 [==============================] - 261s 1s/step - loss: 0.0704 - accuracy: 0.8606 - val_loss: 1.1821 - val_accuracy: 0.2070\n",
      "Epoch 15/20\n",
      "226/226 [==============================] - 267s 1s/step - loss: 0.0642 - accuracy: 0.8716 - val_loss: 1.2334 - val_accuracy: 0.1621\n",
      "Epoch 16/20\n",
      "226/226 [==============================] - 283s 1s/step - loss: 0.0621 - accuracy: 0.8730 - val_loss: 1.4254 - val_accuracy: 0.1580\n",
      "Epoch 17/20\n",
      "226/226 [==============================] - 267s 1s/step - loss: 0.0531 - accuracy: 0.8829 - val_loss: 1.4658 - val_accuracy: 0.1719\n",
      "Epoch 18/20\n",
      "226/226 [==============================] - 263s 1s/step - loss: 0.0509 - accuracy: 0.8835 - val_loss: 1.6785 - val_accuracy: 0.1990\n",
      "Epoch 19/20\n",
      "226/226 [==============================] - 260s 1s/step - loss: 0.0468 - accuracy: 0.8925 - val_loss: 1.3231 - val_accuracy: 0.1715\n",
      "Epoch 20/20\n",
      "226/226 [==============================] - 258s 1s/step - loss: 0.0428 - accuracy: 0.8986 - val_loss: 1.3923 - val_accuracy: 0.1729\n"
     ]
    }
   ],
   "source": [
    "hist = model.fit(x, y, validation_data=(x_test, y_test), batch_size=32, epochs=20, shuffle = True, use_multiprocessing= True, workers = 4)"
   ]
  },
  {
   "cell_type": "code",
   "execution_count": null,
   "id": "52fcad50-221d-491b-8808-71cbbec192d1",
   "metadata": {},
   "outputs": [],
   "source": [
    "model.save('Model_final')"
   ]
  }
 ],
 "metadata": {
  "kernelspec": {
   "display_name": "Python 3 (ipykernel)",
   "language": "python",
   "name": "python3"
  },
  "language_info": {
   "codemirror_mode": {
    "name": "ipython",
    "version": 3
   },
   "file_extension": ".py",
   "mimetype": "text/x-python",
   "name": "python",
   "nbconvert_exporter": "python",
   "pygments_lexer": "ipython3",
   "version": "3.10.11"
  }
 },
 "nbformat": 4,
 "nbformat_minor": 5
}
