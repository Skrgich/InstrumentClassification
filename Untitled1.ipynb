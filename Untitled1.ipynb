{
 "cells": [
  {
   "cell_type": "code",
   "execution_count": 24,
   "id": "2221f6d8-5ddf-472b-a252-3100a3480a6f",
   "metadata": {
    "tags": []
   },
   "outputs": [],
   "source": [
    "import numpy as np\n",
    "import librosa.display, os\n",
    "import matplotlib.pyplot as plt\n",
    "%matplotlib inline\n",
    "\n",
    "def create_spectrogram(audio_file, image_file):\n",
    "    fig = plt.figure()\n",
    "    ax = fig.add_subplot(1, 1, 1)\n",
    "    fig.subplots_adjust(left=0, right=1, bottom=0, top=1)\n",
    "\n",
    "    y, sr = librosa.load(audio_file)\n",
    "    ms = librosa.feature.melspectrogram(y = y, sr = sr)\n",
    "    log_ms = librosa.power_to_db(ms, ref=np.max)\n",
    "    librosa.display.specshow(log_ms, sr=sr)\n",
    "\n",
    "    fig.savefig(image_file)\n",
    "    plt.close(fig)\n",
    "    \n",
    "def create_pngs_from_wavs(input_path, output_path):\n",
    "    if not os.path.exists(output_path):\n",
    "        os.makedirs(output_path)\n",
    "\n",
    "    dir = os.listdir(input_path)\n",
    "\n",
    "    for i, file in enumerate(dir):\n",
    "        if '.txt' in file: continue\n",
    "        input_file = os.path.join(input_path, file)\n",
    "        output_file = os.path.join(output_path, file.replace('.wav', '.png'))\n",
    "        create_spectrogram(input_file, output_file)"
   ]
  },
  {
   "cell_type": "code",
   "execution_count": 2,
   "id": "8e117fba-6c02-4ad4-9e16-b7e8c6ed10cf",
   "metadata": {
    "tags": []
   },
   "outputs": [],
   "source": [
    "create_pngs_from_wavs('Dataset/IRMAS_Training_Data/cel', 'Spectrograms/cel')"
   ]
  },
  {
   "cell_type": "code",
   "execution_count": 3,
   "id": "d4cccd13-1b63-488d-ad31-f9b0a60677f3",
   "metadata": {
    "tags": []
   },
   "outputs": [],
   "source": [
    "create_pngs_from_wavs('Dataset/IRMAS_Training_Data/cla', 'Spectrograms/cla')"
   ]
  },
  {
   "cell_type": "code",
   "execution_count": 4,
   "id": "c3c90e78-06a1-4134-8246-ebf3e6f968eb",
   "metadata": {
    "tags": []
   },
   "outputs": [],
   "source": [
    "create_pngs_from_wavs('Dataset/IRMAS_Training_Data/flu', 'Spectrograms/flu')"
   ]
  },
  {
   "cell_type": "code",
   "execution_count": 5,
   "id": "661bdff1-f257-4dcb-b450-1196924ed2ba",
   "metadata": {
    "tags": []
   },
   "outputs": [],
   "source": [
    "create_pngs_from_wavs('Dataset/IRMAS_Training_Data/gac', 'Spectrograms/gac')"
   ]
  },
  {
   "cell_type": "code",
   "execution_count": 6,
   "id": "c26d05d4-e086-4843-9292-919305471efa",
   "metadata": {
    "tags": []
   },
   "outputs": [],
   "source": [
    "create_pngs_from_wavs('Dataset/IRMAS_Training_Data/gel', 'Spectrograms/gel')"
   ]
  },
  {
   "cell_type": "code",
   "execution_count": 7,
   "id": "65d9f1b5-8aee-4647-8a10-a3fc60e37010",
   "metadata": {
    "tags": []
   },
   "outputs": [],
   "source": [
    "create_pngs_from_wavs('Dataset/IRMAS_Training_Data/org', 'Spectrograms/org')"
   ]
  },
  {
   "cell_type": "code",
   "execution_count": 8,
   "id": "f3c3951e-4712-409b-acee-74c80cdfdf07",
   "metadata": {
    "tags": []
   },
   "outputs": [],
   "source": [
    "create_pngs_from_wavs('Dataset/IRMAS_Training_Data/pia', 'Spectrograms/pia')"
   ]
  },
  {
   "cell_type": "code",
   "execution_count": 9,
   "id": "3c86a44a-e88a-4419-a50c-18245318ced2",
   "metadata": {
    "tags": []
   },
   "outputs": [],
   "source": [
    "create_pngs_from_wavs('Dataset/IRMAS_Training_Data/sax', 'Spectrograms/sax')"
   ]
  },
  {
   "cell_type": "code",
   "execution_count": 10,
   "id": "016cea20-c723-44ec-aafa-ab596e2e0001",
   "metadata": {
    "tags": []
   },
   "outputs": [],
   "source": [
    "create_pngs_from_wavs('Dataset/IRMAS_Training_Data/tru', 'Spectrograms/tru')"
   ]
  },
  {
   "cell_type": "code",
   "execution_count": 11,
   "id": "7bfd2c65-0a68-434b-81b2-48113e23a02e",
   "metadata": {
    "tags": []
   },
   "outputs": [],
   "source": [
    "create_pngs_from_wavs('Dataset/IRMAS_Training_Data/vio', 'Spectrograms/vio')"
   ]
  },
  {
   "cell_type": "code",
   "execution_count": 12,
   "id": "eb4a4ffa-9879-4891-8c5f-a488fa359e27",
   "metadata": {
    "tags": []
   },
   "outputs": [],
   "source": [
    "create_pngs_from_wavs('Dataset/IRMAS_Training_Data/voi', 'Spectrograms/voi')"
   ]
  },
  {
   "cell_type": "code",
   "execution_count": 61,
   "id": "f2ec9f49-56d8-4bad-ae00-76113562ecc1",
   "metadata": {},
   "outputs": [],
   "source": [
    "# from keras.preprocessing import image\n",
    "import keras.utils as image\n",
    "import os\n",
    "import matplotlib.pyplot as plt\n",
    "from random import randint\n",
    "\n",
    "NUM_INSTRUMENTS = 11\n",
    "\n",
    "instruments = [\"cel\", \"cla\", \"flu\", \"gac\", \"gel\", \"org\", \"pia\", \"sax\", \"tru\", \"vio\", \"voi\"]\n",
    "\n",
    "inst_dict = {}\n",
    "for i in range(len(instruments)): \n",
    "    inst_dict[instruments[i]] = i\n",
    "\n",
    "def load_images_from_path(path, path_label = None, label = None):\n",
    "    images = []\n",
    "    labels = []\n",
    "    temp_label = [False for _ in range(NUM_INSTRUMENTS)]\n",
    "    if not path_label:\n",
    "        temp_label[label] = True     \n",
    "        \n",
    "        \n",
    "    for file in os.listdir(path):\n",
    "        images.append(image.img_to_array(image.load_img(os.path.join(path, file), target_size=(224, 224, 3))))\n",
    "        if path_label:\n",
    "            temp_label = [False for _ in range(NUM_INSTRUMENTS)]\n",
    "            with open(\"{}/{}.txt\".format(path_label, file[:-4]), \"r\") as f:\n",
    "                for inst in f:\n",
    "                    inst = inst.replace('\\n', '').replace('\\t', '')\n",
    "                    temp_label[inst_dict[inst]] = True\n",
    "        labels.append((temp_label))\n",
    "        \n",
    "    return images, labels\n",
    "\n",
    "def show_images(images):\n",
    "    fig, axes = plt.subplots(1, 8, figsize=(20, 20), subplot_kw={'xticks': [], 'yticks': []})\n",
    "\n",
    "    for i, ax in enumerate(axes.flat):\n",
    "        ax.imshow(images[i] / 255)\n",
    "        \n",
    "x = []\n",
    "y = []"
   ]
  },
  {
   "cell_type": "code",
   "execution_count": 62,
   "id": "b22e13b7-ac8d-4f54-982a-a3c573f05556",
   "metadata": {
    "tags": []
   },
   "outputs": [],
   "source": [
    "for i in range(len(instruments)):\n",
    "    images, labels = load_images_from_path(path = 'Spectrograms/{}'.format(instruments[i]), label = i)\n",
    "    # show_images(images)\n",
    "    \n",
    "    x += images\n",
    "    y += labels\n",
    "    "
   ]
  },
  {
   "cell_type": "code",
   "execution_count": null,
   "id": "a597fb32-0a1f-4ed3-bafb-95b02e377029",
   "metadata": {
    "tags": []
   },
   "outputs": [],
   "source": [
    "create_pngs_from_wavs('Dataset/IRMAS_Validation_Data', 'Spectrograms/TEST')"
   ]
  },
  {
   "cell_type": "code",
   "execution_count": 64,
   "id": "9b93ca1b-843e-49f7-8da6-31c54cca7c21",
   "metadata": {
    "tags": []
   },
   "outputs": [],
   "source": [
    "\n",
    "images, labels = load_images_from_path(path = 'Spectrograms/TEST', path_label = 'Dataset/IRMAS_Validation_Data')\n",
    "\n",
    "x_test = images\n",
    "y_test = labels\n"
   ]
  },
  {
   "cell_type": "code",
   "execution_count": null,
   "id": "bc38a16e-fa23-41d6-b7c5-7087530b95ae",
   "metadata": {},
   "outputs": [],
   "source": []
  }
 ],
 "metadata": {
  "kernelspec": {
   "display_name": "Python 3 (ipykernel)",
   "language": "python",
   "name": "python3"
  },
  "language_info": {
   "codemirror_mode": {
    "name": "ipython",
    "version": 3
   },
   "file_extension": ".py",
   "mimetype": "text/x-python",
   "name": "python",
   "nbconvert_exporter": "python",
   "pygments_lexer": "ipython3",
   "version": "3.10.10"
  }
 },
 "nbformat": 4,
 "nbformat_minor": 5
}
