{
 "cells": [
  {
   "cell_type": "code",
   "execution_count": 1,
   "id": "2221f6d8-5ddf-472b-a252-3100a3480a6f",
   "metadata": {
    "tags": []
   },
   "outputs": [],
   "source": [
    "import numpy as np\n",
    "import librosa.display, os\n",
    "import matplotlib.pyplot as plt\n",
    "%matplotlib inline\n",
    "\n",
    "def create_spectrogram(audio_file, image_file):\n",
    "    fig = plt.figure()\n",
    "    ax = fig.add_subplot(1, 1, 1)\n",
    "    fig.subplots_adjust(left=0, right=1, bottom=0, top=1)\n",
    "\n",
    "    y, sr = librosa.load(audio_file)\n",
    "    ms = librosa.feature.melspectrogram(y = y, sr = sr)\n",
    "    log_ms = librosa.power_to_db(ms, ref=np.max)\n",
    "    librosa.display.specshow(log_ms, sr=sr)\n",
    "\n",
    "    fig.savefig(image_file)\n",
    "    plt.close(fig)\n",
    "    \n",
    "def create_pngs_from_wavs(input_path, output_path):\n",
    "    if not os.path.exists(output_path):\n",
    "        os.makedirs(output_path)\n",
    "\n",
    "    dir = os.listdir(input_path)\n",
    "\n",
    "    for i, file in enumerate(dir):\n",
    "        if '.txt' in file: continue\n",
    "        input_file = os.path.join(input_path, file)\n",
    "        output_file = os.path.join(output_path, file.replace('.wav', '.png'))\n",
    "        create_spectrogram(input_file, output_file)"
   ]
  },
  {
   "cell_type": "code",
   "execution_count": 2,
   "id": "8e117fba-6c02-4ad4-9e16-b7e8c6ed10cf",
   "metadata": {
    "tags": []
   },
   "outputs": [],
   "source": [
    "create_pngs_from_wavs('Dataset/IRMAS_Training_Data/cel', 'Spectrograms/cel')"
   ]
  },
  {
   "cell_type": "code",
   "execution_count": 3,
   "id": "d4cccd13-1b63-488d-ad31-f9b0a60677f3",
   "metadata": {
    "tags": []
   },
   "outputs": [],
   "source": [
    "create_pngs_from_wavs('Dataset/IRMAS_Training_Data/cla', 'Spectrograms/cla')"
   ]
  },
  {
   "cell_type": "code",
   "execution_count": 4,
   "id": "c3c90e78-06a1-4134-8246-ebf3e6f968eb",
   "metadata": {
    "tags": []
   },
   "outputs": [],
   "source": [
    "create_pngs_from_wavs('Dataset/IRMAS_Training_Data/flu', 'Spectrograms/flu')"
   ]
  },
  {
   "cell_type": "code",
   "execution_count": 5,
   "id": "661bdff1-f257-4dcb-b450-1196924ed2ba",
   "metadata": {
    "tags": []
   },
   "outputs": [],
   "source": [
    "create_pngs_from_wavs('Dataset/IRMAS_Training_Data/gac', 'Spectrograms/gac')"
   ]
  },
  {
   "cell_type": "code",
   "execution_count": 6,
   "id": "c26d05d4-e086-4843-9292-919305471efa",
   "metadata": {
    "tags": []
   },
   "outputs": [],
   "source": [
    "create_pngs_from_wavs('Dataset/IRMAS_Training_Data/gel', 'Spectrograms/gel')"
   ]
  },
  {
   "cell_type": "code",
   "execution_count": 7,
   "id": "65d9f1b5-8aee-4647-8a10-a3fc60e37010",
   "metadata": {
    "tags": []
   },
   "outputs": [],
   "source": [
    "create_pngs_from_wavs('Dataset/IRMAS_Training_Data/org', 'Spectrograms/org')"
   ]
  },
  {
   "cell_type": "code",
   "execution_count": 8,
   "id": "f3c3951e-4712-409b-acee-74c80cdfdf07",
   "metadata": {
    "tags": []
   },
   "outputs": [],
   "source": [
    "create_pngs_from_wavs('Dataset/IRMAS_Training_Data/pia', 'Spectrograms/pia')"
   ]
  },
  {
   "cell_type": "code",
   "execution_count": 9,
   "id": "3c86a44a-e88a-4419-a50c-18245318ced2",
   "metadata": {
    "tags": []
   },
   "outputs": [],
   "source": [
    "create_pngs_from_wavs('Dataset/IRMAS_Training_Data/sax', 'Spectrograms/sax')"
   ]
  },
  {
   "cell_type": "code",
   "execution_count": 10,
   "id": "016cea20-c723-44ec-aafa-ab596e2e0001",
   "metadata": {
    "tags": []
   },
   "outputs": [],
   "source": [
    "create_pngs_from_wavs('Dataset/IRMAS_Training_Data/tru', 'Spectrograms/tru')"
   ]
  },
  {
   "cell_type": "code",
   "execution_count": 11,
   "id": "7bfd2c65-0a68-434b-81b2-48113e23a02e",
   "metadata": {
    "tags": []
   },
   "outputs": [],
   "source": [
    "create_pngs_from_wavs('Dataset/IRMAS_Training_Data/vio', 'Spectrograms/vio')"
   ]
  },
  {
   "cell_type": "code",
   "execution_count": 12,
   "id": "eb4a4ffa-9879-4891-8c5f-a488fa359e27",
   "metadata": {
    "tags": []
   },
   "outputs": [],
   "source": [
    "create_pngs_from_wavs('Dataset/IRMAS_Training_Data/voi', 'Spectrograms/voi')"
   ]
  },
  {
   "cell_type": "code",
   "execution_count": 2,
   "id": "f2ec9f49-56d8-4bad-ae00-76113562ecc1",
   "metadata": {},
   "outputs": [],
   "source": [
    "# from keras.preprocessing import image\n",
    "import keras.utils as image\n",
    "import os\n",
    "import matplotlib.pyplot as plt\n",
    "from random import randint\n",
    "\n",
    "NUM_INSTRUMENTS = 11\n",
    "\n",
    "instruments = [\"cel\", \"cla\", \"flu\", \"gac\", \"gel\", \"org\", \"pia\", \"sax\", \"tru\", \"vio\", \"voi\"]\n",
    "\n",
    "inst_dict = {}\n",
    "for i in range(len(instruments)): \n",
    "    inst_dict[instruments[i]] = i\n",
    "\n",
    "def load_images_from_path(path, x_array, y_array, index, label = None, path_label = None):\n",
    "    images = []\n",
    "    labels = []\n",
    "    temp_label = [0 for _ in range(NUM_INSTRUMENTS)]\n",
    "    if not path_label:\n",
    "        temp_label[label] = 1     \n",
    "        \n",
    "        \n",
    "    for file in os.listdir(path):\n",
    "        x_array[index] = image.img_to_array(image.load_img(os.path.join(path, file), target_size=(224, 224, 3)))\n",
    "        \n",
    "        # images.append(image.img_to_array(image.load_img(os.path.join(path, file), target_size=(224, 224, 3))))\n",
    "        if path_label:\n",
    "            temp_label = [False for _ in range(NUM_INSTRUMENTS)]\n",
    "            with open(\"{}/{}.txt\".format(path_label, file[:-4]), \"r\") as f:\n",
    "                for inst in f:\n",
    "                    inst = inst.replace('\\n', '').replace('\\t', '')\n",
    "                    temp_label[inst_dict[inst]] = 1\n",
    "        # labels.append((temp_label))\n",
    "        y_array[index] = temp_label\n",
    "        index += 1\n",
    "        \n",
    "        \n",
    "    # print(len(images), len(os.listdir(path)), len(images[0]))\n",
    "    # return images, labels\n",
    "    return index\n",
    "\n",
    "def show_images(images):\n",
    "    fig, axes = plt.subplots(1, 8, figsize=(20, 20), subplot_kw={'xticks': [], 'yticks': []})\n",
    "\n",
    "    for i, ax in enumerate(axes.flat):\n",
    "        ax.imshow(images[i] / 255)\n",
    "        "
   ]
  },
  {
   "cell_type": "code",
   "execution_count": 3,
   "id": "b22e13b7-ac8d-4f54-982a-a3c573f05556",
   "metadata": {
    "tags": []
   },
   "outputs": [
    {
     "name": "stdout",
     "output_type": "stream",
     "text": [
      "7210\n",
      "7210\n",
      "7210\n"
     ]
    }
   ],
   "source": [
    "len_train = 0\n",
    "for i in range(len(instruments)):\n",
    "    len_train += len(os.listdir('Spectrograms/{}'.format(instruments[i])))\n",
    "print(len_train)\n",
    "\n",
    "x = np.array([])\n",
    "y = np.array([])\n",
    "x = np.empty(shape = (len_train, 224, 224, 3))\n",
    "y = np.empty(shape = (len_train, NUM_INSTRUMENTS))\n",
    "index = 0\n",
    "for i in range(len(instruments)):\n",
    "    index = load_images_from_path(path = 'Spectrograms/{}'.format(instruments[i]), label = i, x_array = x, y_array = y, index = index)\n",
    "    # images, labels = load_images_from_path(path = 'Spectrograms/{}'.format(instruments[i]), label = i)\n",
    "    # show_images(images)\n",
    "    \n",
    "    # np.append(x, images)\n",
    "    # np.append(y, labels)\n",
    "\n",
    "print(len(x))\n",
    "print(len(y))"
   ]
  },
  {
   "cell_type": "code",
   "execution_count": null,
   "id": "a597fb32-0a1f-4ed3-bafb-95b02e377029",
   "metadata": {
    "tags": []
   },
   "outputs": [],
   "source": [
    "create_pngs_from_wavs('Dataset/IRMAS_Validation_Data', 'Spectrograms/TEST')"
   ]
  },
  {
   "cell_type": "code",
   "execution_count": null,
   "id": "a5eb59fc-92fc-46ec-8519-0c574838467d",
   "metadata": {
    "tags": []
   },
   "outputs": [],
   "source": [
    "print(x[::100])\n",
    "print(y[::100])"
   ]
  },
  {
   "cell_type": "code",
   "execution_count": 4,
   "id": "9b93ca1b-843e-49f7-8da6-31c54cca7c21",
   "metadata": {
    "tags": []
   },
   "outputs": [
    {
     "data": {
      "text/plain": [
       "2874"
      ]
     },
     "execution_count": 4,
     "metadata": {},
     "output_type": "execute_result"
    }
   ],
   "source": [
    "x_test = np.empty(shape = (len(os.listdir('Spectrograms/TEST')), 224, 224, 3))\n",
    "y_test = np.empty(shape = (len(os.listdir('Spectrograms/TEST')), NUM_INSTRUMENTS))\n",
    "load_images_from_path(path = 'Spectrograms/TEST', path_label = 'Dataset/IRMAS_Validation_Data', x_array = x_test, y_array = y_test, index = 0)"
   ]
  },
  {
   "cell_type": "code",
   "execution_count": 5,
   "id": "bc38a16e-fa23-41d6-b7c5-7087530b95ae",
   "metadata": {},
   "outputs": [
    {
     "name": "stdout",
     "output_type": "stream",
     "text": [
      "Model: \"sequential\"\n",
      "_________________________________________________________________\n",
      " Layer (type)                Output Shape              Param #   \n",
      "=================================================================\n",
      " conv2d (Conv2D)             (None, 222, 222, 32)      896       \n",
      "                                                                 \n",
      " max_pooling2d (MaxPooling2D  (None, 111, 111, 32)     0         \n",
      " )                                                               \n",
      "                                                                 \n",
      " conv2d_1 (Conv2D)           (None, 109, 109, 128)     36992     \n",
      "                                                                 \n",
      " max_pooling2d_1 (MaxPooling  (None, 54, 54, 128)      0         \n",
      " 2D)                                                             \n",
      "                                                                 \n",
      " conv2d_2 (Conv2D)           (None, 52, 52, 128)       147584    \n",
      "                                                                 \n",
      " max_pooling2d_2 (MaxPooling  (None, 26, 26, 128)      0         \n",
      " 2D)                                                             \n",
      "                                                                 \n",
      " conv2d_3 (Conv2D)           (None, 24, 24, 128)       147584    \n",
      "                                                                 \n",
      " max_pooling2d_3 (MaxPooling  (None, 12, 12, 128)      0         \n",
      " 2D)                                                             \n",
      "                                                                 \n",
      " flatten (Flatten)           (None, 18432)             0         \n",
      "                                                                 \n",
      " dense (Dense)               (None, 1024)              18875392  \n",
      "                                                                 \n",
      " dense_1 (Dense)             (None, 11)                11275     \n",
      "                                                                 \n",
      "=================================================================\n",
      "Total params: 19,219,723\n",
      "Trainable params: 19,219,723\n",
      "Non-trainable params: 0\n",
      "_________________________________________________________________\n"
     ]
    }
   ],
   "source": [
    "from keras.models import Sequential\n",
    "from keras.layers import Conv2D, MaxPooling2D\n",
    "from keras.layers import Flatten, Dense\n",
    "\n",
    "model = Sequential()\n",
    "model.add(Conv2D(32, (3, 3), activation='relu', input_shape=(224, 224, 3)))\n",
    "model.add(MaxPooling2D(2, 2))\n",
    "model.add(Conv2D(128, (3, 3), activation='relu'))\n",
    "model.add(MaxPooling2D(2, 2))\n",
    "model.add(Conv2D(128, (3, 3), activation='relu'))\n",
    "model.add(MaxPooling2D(2, 2))\n",
    "model.add(Conv2D(128, (3, 3), activation='relu'))\n",
    "model.add(MaxPooling2D(2, 2))\n",
    "model.add(Flatten())\n",
    "model.add(Dense(1024, activation='relu'))\n",
    "model.add(Dense(11, activation='softmax'))\n",
    "model.compile(optimizer='adam', loss='categorical_crossentropy', metrics=['accuracy'])\n",
    "model.summary()"
   ]
  },
  {
   "cell_type": "code",
   "execution_count": 8,
   "id": "2088ebc3-f385-4de9-9d33-676521218649",
   "metadata": {
    "tags": []
   },
   "outputs": [
    {
     "name": "stdout",
     "output_type": "stream",
     "text": [
      "7210 7210 2874 2874\n",
      "Epoch 1/20\n",
      "721/721 [==============================] - 669s 922ms/step - loss: 1.4381 - accuracy: 0.4900 - val_loss: 5.9480 - val_accuracy: 0.2143\n",
      "Epoch 2/20\n",
      "721/721 [==============================] - 598s 829ms/step - loss: 1.2756 - accuracy: 0.5463 - val_loss: 5.7347 - val_accuracy: 0.2154\n",
      "Epoch 3/20\n",
      "721/721 [==============================] - 599s 830ms/step - loss: 1.1097 - accuracy: 0.6067 - val_loss: 7.0213 - val_accuracy: 0.2408\n",
      "Epoch 4/20\n",
      "721/721 [==============================] - 601s 834ms/step - loss: 0.8953 - accuracy: 0.6791 - val_loss: 7.1525 - val_accuracy: 0.2453\n",
      "Epoch 5/20\n",
      "721/721 [==============================] - 607s 842ms/step - loss: 0.8086 - accuracy: 0.7026 - val_loss: 8.3356 - val_accuracy: 0.2126\n",
      "Epoch 6/20\n",
      "721/721 [==============================] - 605s 839ms/step - loss: 0.7080 - accuracy: 0.7497 - val_loss: 8.9225 - val_accuracy: 0.2241\n",
      "Epoch 7/20\n",
      "721/721 [==============================] - 602s 835ms/step - loss: 0.6524 - accuracy: 0.7730 - val_loss: 9.5617 - val_accuracy: 0.2140\n",
      "Epoch 8/20\n",
      "721/721 [==============================] - 605s 840ms/step - loss: 0.5432 - accuracy: 0.8019 - val_loss: 9.5120 - val_accuracy: 0.2272\n",
      "Epoch 9/20\n",
      "721/721 [==============================] - 611s 848ms/step - loss: 0.4602 - accuracy: 0.8312 - val_loss: 10.1818 - val_accuracy: 0.2317\n",
      "Epoch 10/20\n",
      "721/721 [==============================] - 692s 960ms/step - loss: 0.4559 - accuracy: 0.8365 - val_loss: 10.7343 - val_accuracy: 0.2262\n",
      "Epoch 11/20\n",
      "721/721 [==============================] - 667s 925ms/step - loss: 0.3459 - accuracy: 0.8646 - val_loss: 9.1920 - val_accuracy: 0.2223\n",
      "Epoch 12/20\n",
      "721/721 [==============================] - 649s 900ms/step - loss: 0.3117 - accuracy: 0.8699 - val_loss: 10.4294 - val_accuracy: 0.2359\n",
      "Epoch 13/20\n",
      "721/721 [==============================] - 614s 851ms/step - loss: 0.4234 - accuracy: 0.8430 - val_loss: 10.6977 - val_accuracy: 0.2596\n",
      "Epoch 14/20\n",
      "721/721 [==============================] - 599s 832ms/step - loss: 0.3036 - accuracy: 0.8727 - val_loss: 11.9866 - val_accuracy: 0.2035\n",
      "Epoch 15/20\n",
      "721/721 [==============================] - 599s 830ms/step - loss: 0.2905 - accuracy: 0.8795 - val_loss: 10.4075 - val_accuracy: 0.2168\n",
      "Epoch 16/20\n",
      "721/721 [==============================] - 601s 834ms/step - loss: 0.2791 - accuracy: 0.8803 - val_loss: 11.1577 - val_accuracy: 0.2262\n",
      "Epoch 17/20\n",
      "721/721 [==============================] - 598s 830ms/step - loss: 0.2545 - accuracy: 0.8832 - val_loss: 10.6417 - val_accuracy: 0.2136\n",
      "Epoch 18/20\n",
      "721/721 [==============================] - 600s 832ms/step - loss: 0.3078 - accuracy: 0.8727 - val_loss: 14.1520 - val_accuracy: 0.1768\n",
      "Epoch 19/20\n",
      "721/721 [==============================] - 616s 855ms/step - loss: 0.3694 - accuracy: 0.8655 - val_loss: 12.2833 - val_accuracy: 0.1907\n",
      "Epoch 20/20\n",
      "721/721 [==============================] - 656s 910ms/step - loss: 0.2320 - accuracy: 0.8926 - val_loss: 11.0977 - val_accuracy: 0.2216\n"
     ]
    }
   ],
   "source": [
    "print(len(x), len(y), len(x_test), len(y_test))\n",
    "\n",
    "hist = model.fit(x, y, validation_data=(x_test, y_test), batch_size=10, epochs=20, shuffle = True, use_multiprocessing= True, workers = 4)"
   ]
  },
  {
   "cell_type": "code",
   "execution_count": 11,
   "id": "52fcad50-221d-491b-8808-71cbbec192d1",
   "metadata": {},
   "outputs": [
    {
     "name": "stderr",
     "output_type": "stream",
     "text": [
      "WARNING:absl:Found untraced functions such as _jit_compiled_convolution_op, _jit_compiled_convolution_op, _jit_compiled_convolution_op, _jit_compiled_convolution_op, _update_step_xla while saving (showing 5 of 5). These functions will not be directly callable after loading.\n"
     ]
    },
    {
     "name": "stdout",
     "output_type": "stream",
     "text": [
      "INFO:tensorflow:Assets written to: Model\\assets\n"
     ]
    },
    {
     "name": "stderr",
     "output_type": "stream",
     "text": [
      "INFO:tensorflow:Assets written to: Model\\assets\n"
     ]
    }
   ],
   "source": [
    "model.save('Model')"
   ]
  },
  {
   "cell_type": "code",
   "execution_count": 14,
   "id": "ee156a02-0303-4855-b09f-ab21be32220b",
   "metadata": {
    "tags": []
   },
   "outputs": [],
   "source": [
    "from keras.models import load_model\n",
    "new_model = load_model('Model')"
   ]
  },
  {
   "cell_type": "code",
   "execution_count": 22,
   "id": "e912897f-6c50-4ac3-a127-a5302be09975",
   "metadata": {
    "tags": []
   },
   "outputs": [
    {
     "name": "stdout",
     "output_type": "stream",
     "text": [
      "1/1 [==============================] - 0s 53ms/step\n",
      "[[2.6086919e-02 1.4914972e-02 6.3624345e-03 4.0933765e-03 6.0240128e-03\n",
      "  7.3785953e-02 2.1311190e-04 3.0365810e-03 1.3265050e-03 1.9803082e-03\n",
      "  8.6217576e-01]] [0. 0. 0. 0. 1. 1. 0. 0. 0. 0. 0.]\n"
     ]
    }
   ],
   "source": [
    "for i in [432]:\n",
    "    print(model.predict(np.array([x_test[i]])), y_test[i])"
   ]
  },
  {
   "cell_type": "code",
   "execution_count": null,
   "id": "ced19277-a760-4d1c-81a0-76a36e9ef35a",
   "metadata": {},
   "outputs": [],
   "source": []
  }
 ],
 "metadata": {
  "kernelspec": {
   "display_name": "Python 3 (ipykernel)",
   "language": "python",
   "name": "python3"
  },
  "language_info": {
   "codemirror_mode": {
    "name": "ipython",
    "version": 3
   },
   "file_extension": ".py",
   "mimetype": "text/x-python",
   "name": "python",
   "nbconvert_exporter": "python",
   "pygments_lexer": "ipython3",
   "version": "3.10.10"
  }
 },
 "nbformat": 4,
 "nbformat_minor": 5
}
